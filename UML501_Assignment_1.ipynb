{
  "nbformat": 4,
  "nbformat_minor": 0,
  "metadata": {
    "colab": {
      "provenance": [],
      "authorship_tag": "ABX9TyO5MXvPg8wbViYeHzOMla4S",
      "include_colab_link": true
    },
    "kernelspec": {
      "name": "python3",
      "display_name": "Python 3"
    },
    "language_info": {
      "name": "python"
    }
  },
  "cells": [
    {
      "cell_type": "markdown",
      "metadata": {
        "id": "view-in-github",
        "colab_type": "text"
      },
      "source": [
        "<a href=\"https://colab.research.google.com/github/ips610/UML501-Machine-Learning-Course-TIET/blob/main/UML501_Assignment_1.ipynb\" target=\"_parent\"><img src=\"https://colab.research.google.com/assets/colab-badge.svg\" alt=\"Open In Colab\"/></a>"
      ]
    },
    {
      "cell_type": "code",
      "execution_count": 1,
      "metadata": {
        "id": "3AmY97kuVrEw"
      },
      "outputs": [],
      "source": [
        "import numpy as np"
      ]
    },
    {
      "cell_type": "code",
      "source": [
        "arr = np.array([1, 2, 3, 6, 4, 5])\n",
        "print(f'Array: {arr}')\n",
        "print(f'Reversed Array: {arr[::-1]}')\n",
        "print(f'Reversed Array: {np.flip(arr)}')"
      ],
      "metadata": {
        "colab": {
          "base_uri": "https://localhost:8080/"
        },
        "id": "G5XinazkV1xl",
        "outputId": "92acb084-7d57-47df-a1ce-ba27a47f8a43"
      },
      "execution_count": 5,
      "outputs": [
        {
          "output_type": "stream",
          "name": "stdout",
          "text": [
            "Array: [1 2 3 6 4 5]\n",
            "Reversed Array: [5 4 6 3 2 1]\n",
            "Reversed Array: [5 4 6 3 2 1]\n"
          ]
        }
      ]
    },
    {
      "cell_type": "code",
      "source": [
        "arr = np.array([[1, 2, 3], [2, 4, 5], [1, 2, 3]])\n",
        "print(f'Flattened Array: {arr.flatten()}')\n",
        "print(f'Flattened Array: {arr.ravel()}')\n",
        "print(f'Flattened Array: {arr.reshape(-1)}')"
      ],
      "metadata": {
        "colab": {
          "base_uri": "https://localhost:8080/"
        },
        "id": "UANoKxcVXCvv",
        "outputId": "c7bd25cf-d243-47d4-fb1c-d5a0f990e284"
      },
      "execution_count": 7,
      "outputs": [
        {
          "output_type": "stream",
          "name": "stdout",
          "text": [
            "Flattened Array: [1 2 3 2 4 5 1 2 3]\n",
            "Flattened Array: [1 2 3 2 4 5 1 2 3]\n",
            "Flattened Array: [1 2 3 2 4 5 1 2 3]\n"
          ]
        }
      ]
    },
    {
      "cell_type": "code",
      "source": [
        "arr1 = np.array([[1, 2], [3, 4]])\n",
        "arr2 = np.array([[1, 2], [3, 5]])\n",
        "\n",
        "print(f'{np.equal(arr1, arr2)}')\n",
        "print(f'{arr1 == arr2}')\n",
        "print(f'Output: {np.array_equal(arr1, arr2)}')"
      ],
      "metadata": {
        "colab": {
          "base_uri": "https://localhost:8080/"
        },
        "id": "5lmAj0JoYHjE",
        "outputId": "4b76ae9f-0c6e-4b25-b4f3-eec579d9d58a"
      },
      "execution_count": 11,
      "outputs": [
        {
          "output_type": "stream",
          "name": "stdout",
          "text": [
            "[[ True  True]\n",
            " [ True False]]\n",
            "[[ True  True]\n",
            " [ True False]]\n",
            "Output: False\n"
          ]
        }
      ]
    },
    {
      "cell_type": "code",
      "source": [
        "x = np.array([1,2,3,4,5,1,2,1,1,1])\n",
        "y = np.array([1, 1, 1, 2, 3, 4, 2, 4, 3, 3, ])\n",
        "\n",
        "# Find the most frequent value\n",
        "most_frequent_value = np.bincount(x).argmax()\n",
        "print(f\"Most frequent value: {most_frequent_value}\")\n",
        "\n",
        "# Find the indices of the most frequent value\n",
        "indices = np.where(x == most_frequent_value)[0]\n",
        "print(f\"Indices of the most frequent value: {indices}\")\n",
        "\n",
        "\n",
        "\n",
        "# Find the most frequent value\n",
        "most_frequent_value = np.bincount(y).argmax()\n",
        "print(f\"Most frequent value: {most_frequent_value}\")\n",
        "\n",
        "# Find the indices of the most frequent value\n",
        "indices = np.where(y == most_frequent_value)[0]\n",
        "print(f\"Indices of the most frequent value: {indices}\")"
      ],
      "metadata": {
        "colab": {
          "base_uri": "https://localhost:8080/"
        },
        "id": "8oBlREGaY1gl",
        "outputId": "5a428fda-61fa-430d-df88-e40edc1970f8"
      },
      "execution_count": 12,
      "outputs": [
        {
          "output_type": "stream",
          "name": "stdout",
          "text": [
            "Most frequent value: 1\n",
            "Indices of the most frequent value: [0 5 7 8 9]\n",
            "Most frequent value: 1\n",
            "Indices of the most frequent value: [0 1 2]\n"
          ]
        }
      ]
    },
    {
      "cell_type": "code",
      "source": [
        "def find_most_frequent_value_and_indices(array):\n",
        "    # Find the unique values and their counts\n",
        "    values, counts = np.unique(array, return_counts=True)\n",
        "\n",
        "    # Find the most frequent value\n",
        "    most_frequent_value = values[np.argmax(counts)]\n",
        "\n",
        "    # Find the indices of the most frequent value\n",
        "    indices = np.where(array == most_frequent_value)[0]\n",
        "\n",
        "    return most_frequent_value, indices\n",
        "\n",
        "print(find_most_frequent_value_and_indices(x))\n",
        "print(find_most_frequent_value_and_indices(y))"
      ],
      "metadata": {
        "colab": {
          "base_uri": "https://localhost:8080/"
        },
        "id": "MBFhKBG8Z_9o",
        "outputId": "d2fa900b-429d-4e32-f150-1c7cca81d1cb"
      },
      "execution_count": 14,
      "outputs": [
        {
          "output_type": "stream",
          "name": "stdout",
          "text": [
            "(1, array([0, 5, 7, 8, 9]))\n",
            "(1, array([0, 1, 2]))\n"
          ]
        }
      ]
    },
    {
      "cell_type": "code",
      "source": [
        "array = np.array([1, 3, 2, 1, 4, 1, 3, 3, 3, 2, 1])\n",
        "\n",
        "# Find the counts of all values\n",
        "counts = np.bincount(array)\n",
        "print(f\"Counts: {counts}\")\n",
        "\n",
        "# Identify the maximum count\n",
        "max_count = counts.max()\n",
        "print(f\"Maximum count: {max_count}\")\n",
        "\n",
        "# Find all values that have the maximum count\n",
        "most_frequent_values = np.flatnonzero(counts == max_count)\n",
        "print(f\"Most frequent values: {most_frequent_values}\")\n",
        "\n",
        "# Find the indices of these most frequent values in the original array\n",
        "indices_dict = {value: np.where(array == value)[0] for value in most_frequent_values}\n",
        "print(f\"Indices of the most frequent values: {indices_dict}\")"
      ],
      "metadata": {
        "colab": {
          "base_uri": "https://localhost:8080/"
        },
        "id": "EmP8e7URaA6d",
        "outputId": "792f8a7a-fb5a-4fba-ecbf-5e5d8b3c0643"
      },
      "execution_count": 15,
      "outputs": [
        {
          "output_type": "stream",
          "name": "stdout",
          "text": [
            "Counts: [0 4 2 4 1]\n",
            "Maximum count: 4\n",
            "Most frequent values: [1 3]\n",
            "Indices of the most frequent values: {1: array([ 0,  3,  5, 10]), 3: array([1, 6, 7, 8])}\n"
          ]
        }
      ]
    },
    {
      "cell_type": "code",
      "source": [
        "gfg = np.matrix('[4, 1, 9; 12, 3, 1; 4, 5, 6]')\n",
        "print(f'Sum: {np.sum(gfg)}')\n",
        "print(f'Row Wise Sum: {np.sum(gfg, axis=1)}')\n",
        "print(f'Second Row Sum: {np.sum(gfg, axis=1)[1]}')\n",
        "print(f'Column Wise Sum: {np.sum(gfg, axis=0)}')\n",
        "xyz = np.sum(gfg, axis=0)\n",
        "print(type(xyz))\n",
        "print(xyz.shape)\n",
        "xyz[0]\n",
        "\n",
        "# Bottom Code work perfectly\n",
        "\n",
        "# # Define the matrix correctly as a NumPy array\n",
        "# gfg = np.array([[4, 1, 9], [12, 3, 1], [4, 5, 6]])\n",
        "\n",
        "# # Sum of all elements\n",
        "# print(f'Sum: {np.sum(gfg)}')\n",
        "\n",
        "# # Sum of elements row-wise\n",
        "# print(f'Row Wise Sum: {np.sum(gfg, axis=1)}')\n",
        "\n",
        "# # Sum of the second row\n",
        "# print(f'Second Row Sum: {np.sum(gfg, axis=1)[1]}')\n",
        "\n",
        "# # Sum of elements column-wise\n",
        "# print(f'Column Wise Sum: {np.sum(gfg, axis=0)}')\n",
        "\n",
        "# # Store column-wise sums in xyz\n",
        "# xyz = np.sum(gfg, axis=0)\n",
        "\n",
        "# # Type and shape of xyz\n",
        "# print(type(xyz))  # Should print <class 'numpy.ndarray'>\n",
        "# print(xyz.shape)  # Should print (3,)\n",
        "\n",
        "# # Correctly access the sum of the first column\n",
        "# print(xyz[0])  # This is the sum of the first column\n"
      ],
      "metadata": {
        "colab": {
          "base_uri": "https://localhost:8080/"
        },
        "id": "tIzNiA2vaVho",
        "outputId": "a46ff69f-def4-459d-9262-7bc5c6540b55"
      },
      "execution_count": 66,
      "outputs": [
        {
          "output_type": "stream",
          "name": "stdout",
          "text": [
            "Sum: 45\n",
            "Row Wise Sum: [[14]\n",
            " [16]\n",
            " [15]]\n",
            "Second Row Sum: [[16]]\n",
            "Column Wise Sum: [[20  9 16]]\n",
            "<class 'numpy.matrix'>\n",
            "(1, 3)\n"
          ]
        },
        {
          "output_type": "execute_result",
          "data": {
            "text/plain": [
              "matrix([[20,  9, 16]])"
            ]
          },
          "metadata": {},
          "execution_count": 66
        }
      ]
    },
    {
      "cell_type": "code",
      "source": [
        "n_array = np.array([[55, 25, 15],[30, 44, 2],[11, 45, 77]])\n",
        "\n",
        "# i. Sum of diagonal elements\n",
        "sum_diagonal_elements = np.trace(n_array)\n",
        "print(f\"Sum of diagonal elements: {sum_diagonal_elements}\")\n",
        "\n",
        "# ii. Eigenvalues of the matrix\n",
        "eigenvalues = np.linalg.eigvals(n_array)\n",
        "print(f\"Eigenvalues of the matrix: {eigenvalues}\")\n",
        "\n",
        "# iii. Eigenvectors of the matrix\n",
        "eigenvalues, eigenvectors = np.linalg.eig(n_array)\n",
        "print(f\"Eigenvectors of the matrix: {eigenvectors}\")\n",
        "\n",
        "# iv. Inverse of the matrix\n",
        "inverse_matrix = np.linalg.inv(n_array)\n",
        "print(f\"Inverse of the matrix: {inverse_matrix}\")\n",
        "\n",
        "# v. Determinant of the matrix\n",
        "determinant = np.linalg.det(n_array)\n",
        "print(f\"Determinant of the matrix: {determinant}\")"
      ],
      "metadata": {
        "colab": {
          "base_uri": "https://localhost:8080/"
        },
        "id": "jmbg9mL8a_eS",
        "outputId": "f95e3f08-6ee5-42eb-eac6-9fa5c2fe36d6"
      },
      "execution_count": 29,
      "outputs": [
        {
          "output_type": "stream",
          "name": "stdout",
          "text": [
            "Sum of diagonal elements: 176\n",
            "Eigenvalues of the matrix: [98.16835147 28.097044   49.73460452]\n",
            "Eigenvectors of the matrix: [[ 0.4574917   0.34637121 -0.15017693]\n",
            " [ 0.28447814 -0.72784061 -0.4852124 ]\n",
            " [ 0.84248058  0.59184038  0.8614034 ]]\n",
            "Inverse of the matrix: [[ 0.02404141 -0.00911212 -0.00444671]\n",
            " [-0.01667882  0.02966905  0.0024785 ]\n",
            " [ 0.00631287 -0.01603732  0.01217379]]\n",
            "Determinant of the matrix: 137180.0000000001\n"
          ]
        }
      ]
    },
    {
      "cell_type": "code",
      "source": [
        "p1 = np.array([[1, 2], [2, 3]])\n",
        "q1 = np.array([[4, 5], [6, 7]])\n",
        "\n",
        "print(f'Mutiplication: {p1*q1}')\n",
        "print(f'Dot Product: {np.dot(p1, q1)}')\n",
        "print(f'Multiplication: {np.matmul(p1, q1)}')\n",
        "p2 = np.array([[1, 2], [2, 3], [4, 5]])\n",
        "q2 = np.array([[4, 5, 1], [6, 7, 2]])\n",
        "\n",
        "result2 = np.matmul(p2, q2)\n",
        "print(f'Multiplication of p2 and q2:\\n{result2}')\n",
        "\n",
        "# Flatten matrices to 1D arrays\n",
        "p1_flat = p1.flatten()\n",
        "q1_flat = q1.flatten()\n",
        "\n",
        "# Stack matrices vertically and calculate covariance matrix\n",
        "cov_matrix = np.cov(p1_flat, q1_flat)\n",
        "print(f'Covariance matrix between p1 and q1:\\n{cov_matrix}')\n",
        "\n",
        "# Flatten matrices to 1D arrays\n",
        "p2_flat = p2.flatten()\n",
        "q2_flat = q2.flatten()\n",
        "\n",
        "# Stack matrices vertically and calculate covariance matrix\n",
        "cov_matrix = np.cov(p2_flat, q2_flat)\n",
        "print(f'Covariance matrix between p2 and q2:\\n{cov_matrix}')\n",
        "\n",
        "# Define matrices x and y\n",
        "x = np.array([[2, 3, 4], [3, 2, 9]])\n",
        "y = np.array([[1, 5, 0], [5, 10, 3]])\n",
        "\n",
        "# Inner product (dot product)\n",
        "inner_product = np.inner(x, y)\n",
        "print(f'Inner product of x and y:\\n{inner_product}')\n",
        "\n",
        "# Define vectors (flatten x and y)\n",
        "x_flat = x.flatten()\n",
        "y_flat = y.flatten()\n",
        "\n",
        "# Outer product\n",
        "outer_product = np.outer(x_flat, y_flat)\n",
        "print(f'Outer product of x and y:\\n{outer_product}')\n",
        "\n",
        "# Cartesian product using broadcasting\n",
        "cartesian_product = np.einsum('ij,kl->ijkl', x, y)\n",
        "print(f'Cartesian product of x and y:\\n{cartesian_product}')\n"
      ],
      "metadata": {
        "colab": {
          "base_uri": "https://localhost:8080/"
        },
        "id": "_Vuwjwyxg08Y",
        "outputId": "6c9a2091-7aac-442d-f055-1ce42a8a1c7a"
      },
      "execution_count": 72,
      "outputs": [
        {
          "output_type": "stream",
          "name": "stdout",
          "text": [
            "Mutiplication: [[ 4 10]\n",
            " [12 21]]\n",
            "Dot Product: [[16 19]\n",
            " [26 31]]\n",
            "Multiplication: [[16 19]\n",
            " [26 31]]\n",
            "Multiplication of p2 and q2:\n",
            "[[16 19  5]\n",
            " [26 31  8]\n",
            " [46 55 14]]\n",
            "Covariance matrix between p1 and q1:\n",
            "[[0.66666667 1.        ]\n",
            " [1.         1.66666667]]\n",
            "Covariance matrix between p2 and q2:\n",
            "[[2.16666667 0.23333333]\n",
            " [0.23333333 5.36666667]]\n",
            "Inner product of x and y:\n",
            "[[17 52]\n",
            " [13 62]]\n",
            "Outer product of x and y:\n",
            "[[ 2 10  0 10 20  6]\n",
            " [ 3 15  0 15 30  9]\n",
            " [ 4 20  0 20 40 12]\n",
            " [ 3 15  0 15 30  9]\n",
            " [ 2 10  0 10 20  6]\n",
            " [ 9 45  0 45 90 27]]\n",
            "Cartesian product of x and y:\n",
            "[[[[ 2 10  0]\n",
            "   [10 20  6]]\n",
            "\n",
            "  [[ 3 15  0]\n",
            "   [15 30  9]]\n",
            "\n",
            "  [[ 4 20  0]\n",
            "   [20 40 12]]]\n",
            "\n",
            "\n",
            " [[[ 3 15  0]\n",
            "   [15 30  9]]\n",
            "\n",
            "  [[ 2 10  0]\n",
            "   [10 20  6]]\n",
            "\n",
            "  [[ 9 45  0]\n",
            "   [45 90 27]]]]\n"
          ]
        }
      ]
    },
    {
      "cell_type": "code",
      "source": [
        "array = np.array([[1, -2, 3], [-4, 5, -6]])"
      ],
      "metadata": {
        "id": "pyBg0ntkhqSK"
      },
      "execution_count": 73,
      "outputs": []
    },
    {
      "cell_type": "code",
      "source": [
        "abs_array = np.abs(array)\n",
        "print(f'Element-wise absolute value:\\n{abs_array}')"
      ],
      "metadata": {
        "colab": {
          "base_uri": "https://localhost:8080/"
        },
        "id": "c_eJlyiDkNx_",
        "outputId": "c59b9191-6bd1-4c55-8ae2-6661d7b00cf4"
      },
      "execution_count": 74,
      "outputs": [
        {
          "output_type": "stream",
          "name": "stdout",
          "text": [
            "Element-wise absolute value:\n",
            "[[1 2 3]\n",
            " [4 5 6]]\n"
          ]
        }
      ]
    },
    {
      "cell_type": "code",
      "source": [
        "percentiles_flat = np.percentile(array.flatten(), [25, 50, 75])\n",
        "print(f'25th, 50th, and 75th percentiles of flattened array:\\n{percentiles_flat}')\n"
      ],
      "metadata": {
        "colab": {
          "base_uri": "https://localhost:8080/"
        },
        "id": "uZCYaZ5akT-d",
        "outputId": "6e473bc7-299e-4737-db07-ac35b095bca2"
      },
      "execution_count": 75,
      "outputs": [
        {
          "output_type": "stream",
          "name": "stdout",
          "text": [
            "25th, 50th, and 75th percentiles of flattened array:\n",
            "[-3.5 -0.5  2.5]\n"
          ]
        }
      ]
    },
    {
      "cell_type": "code",
      "source": [
        "percentiles_columns = np.percentile(array, [25, 50, 75], axis=0)\n",
        "print(f'25th, 50th, and 75th percentiles for each column:\\n{percentiles_columns}')\n"
      ],
      "metadata": {
        "colab": {
          "base_uri": "https://localhost:8080/"
        },
        "id": "yxnKsXsHkZJW",
        "outputId": "1e915ad7-3452-4e56-f86f-e267e66959bc"
      },
      "execution_count": 76,
      "outputs": [
        {
          "output_type": "stream",
          "name": "stdout",
          "text": [
            "25th, 50th, and 75th percentiles for each column:\n",
            "[[-2.75 -0.25 -3.75]\n",
            " [-1.5   1.5  -1.5 ]\n",
            " [-0.25  3.25  0.75]]\n"
          ]
        }
      ]
    },
    {
      "cell_type": "code",
      "source": [
        "percentiles_rows = np.percentile(array, [25, 50, 75], axis=1)\n",
        "print(f'25th, 50th, and 75th percentiles for each row:\\n{percentiles_rows}')\n"
      ],
      "metadata": {
        "colab": {
          "base_uri": "https://localhost:8080/"
        },
        "id": "gvhY3wW7kynC",
        "outputId": "9ac0b727-3f02-4336-d249-82454c7ece72"
      },
      "execution_count": 77,
      "outputs": [
        {
          "output_type": "stream",
          "name": "stdout",
          "text": [
            "25th, 50th, and 75th percentiles for each row:\n",
            "[[-0.5 -5. ]\n",
            " [ 1.  -4. ]\n",
            " [ 2.   0.5]]\n"
          ]
        }
      ]
    },
    {
      "cell_type": "code",
      "source": [
        "mean_flat = np.mean(array.flatten())\n",
        "median_flat = np.median(array.flatten())\n",
        "std_flat = np.std(array.flatten())\n",
        "\n",
        "print(f'Mean of flattened array: {mean_flat}')\n",
        "print(f'Median of flattened array: {median_flat}')\n",
        "print(f'Standard Deviation of flattened array: {std_flat}')\n"
      ],
      "metadata": {
        "colab": {
          "base_uri": "https://localhost:8080/"
        },
        "id": "aIoLAoPMk4_e",
        "outputId": "2e56cf16-114a-4a18-97b7-341d65ba7dea"
      },
      "execution_count": 80,
      "outputs": [
        {
          "output_type": "stream",
          "name": "stdout",
          "text": [
            "Mean of flattened array: -0.5\n",
            "Median of flattened array: -0.5\n",
            "Standard Deviation of flattened array: 3.8622100754188224\n"
          ]
        }
      ]
    },
    {
      "cell_type": "code",
      "source": [
        "mean_columns = np.mean(array, axis=0)\n",
        "median_columns = np.median(array, axis=0)\n",
        "std_columns = np.std(array, axis=0)\n",
        "\n",
        "print(f'Mean of each column:\\n{mean_columns}')\n",
        "print(f'Median of each column:\\n{median_columns}')\n",
        "print(f'Standard Deviation of each column:\\n{std_columns}')\n",
        "\n",
        "\n",
        "mean_rows = np.mean(array, axis=1)\n",
        "median_rows = np.median(array, axis=1)\n",
        "std_rows = np.std(array, axis=1)\n",
        "\n",
        "print(f'Mean of each row:\\n{mean_rows}')\n",
        "print(f'Median of each row:\\n{median_rows}')\n",
        "print(f'Standard Deviation of each row:\\n{std_rows}')\n",
        "\n"
      ],
      "metadata": {
        "colab": {
          "base_uri": "https://localhost:8080/"
        },
        "id": "-NhfDYldk-1m",
        "outputId": "571a54e4-ebf4-4522-e31f-41a07a5b24e2"
      },
      "execution_count": 82,
      "outputs": [
        {
          "output_type": "stream",
          "name": "stdout",
          "text": [
            "Mean of each column:\n",
            "[-1.5  1.5 -1.5]\n",
            "Median of each column:\n",
            "[-1.5  1.5 -1.5]\n",
            "Standard Deviation of each column:\n",
            "[2.5 3.5 4.5]\n",
            "Mean of each row:\n",
            "[ 0.66666667 -1.66666667]\n",
            "Median of each row:\n",
            "[ 1. -4.]\n",
            "Standard Deviation of each row:\n",
            "[2.05480467 4.78423336]\n"
          ]
        }
      ]
    },
    {
      "cell_type": "code",
      "source": [
        "a = np.array([-1.8, -1.6, -0.5, 0.5, 1.6, 1.8, 3.0])\n",
        "\n",
        "floor_values = np.floor(a)\n",
        "print(f'Floor values:\\n{floor_values}')\n",
        "\n",
        "ceiling_values = np.ceil(a)\n",
        "print(f'Ceiling values:\\n{ceiling_values}')\n",
        "\n",
        "trunc_values = np.trunc(a)\n",
        "print(f'Truncated values:\\n{trunc_values}')\n",
        "\n",
        "round_values = np.round(a)\n",
        "print(f'Rounded values:\\n{round_values}')"
      ],
      "metadata": {
        "colab": {
          "base_uri": "https://localhost:8080/"
        },
        "id": "Rlvh3uenlUgg",
        "outputId": "05e5b019-f33a-47f8-82e0-6648fe346dc6"
      },
      "execution_count": 85,
      "outputs": [
        {
          "output_type": "stream",
          "name": "stdout",
          "text": [
            "Floor values:\n",
            "[-2. -2. -1.  0.  1.  1.  3.]\n",
            "Ceiling values:\n",
            "[-1. -1. -0.  1.  2.  2.  3.]\n",
            "Truncated values:\n",
            "[-1. -1. -0.  0.  1.  1.  3.]\n",
            "Rounded values:\n",
            "[-2. -2. -0.  0.  2.  2.  3.]\n"
          ]
        }
      ]
    },
    {
      "cell_type": "code",
      "source": [
        "array = np.array([10, 52, 62, 16, 16, 54, 453])\n",
        "\n",
        "sorted_array = np.sort(array)\n",
        "print(f'Sorted array:\\n{sorted_array}')\n",
        "\n",
        "sorted_indices = np.argsort(array)\n",
        "print(f'Indices of sorted array:\\n{sorted_indices}')\n",
        "\n",
        "four_smallest = np.partition(array, 4)[:4]\n",
        "print(f'4 smallest elements:\\n{four_smallest}')\n",
        "\n",
        "four_smallest = np.sort(array)[:4]\n",
        "print(f'4 smallest elements:\\n{four_smallest}')\n",
        "\n",
        "five_largest = np.partition(array, -5)[-5:]\n",
        "print(f'5 largest elements:\\n{five_largest}')\n",
        "\n",
        "five_largest = np.sort(array)[-5:]\n",
        "print(f'5 largest elements:\\n{five_largest}')\n"
      ],
      "metadata": {
        "colab": {
          "base_uri": "https://localhost:8080/"
        },
        "id": "6m-yusKVlU5V",
        "outputId": "6958104d-9d14-4a21-c771-806a2f883945"
      },
      "execution_count": 88,
      "outputs": [
        {
          "output_type": "stream",
          "name": "stdout",
          "text": [
            "Sorted array:\n",
            "[ 10  16  16  52  54  62 453]\n",
            "Indices of sorted array:\n",
            "[0 3 4 1 5 2 6]\n",
            "4 smallest elements:\n",
            "[16 10 16 52]\n",
            "4 smallest elements:\n",
            "[10 16 16 52]\n",
            "5 largest elements:\n",
            "[ 16  52  62  54 453]\n",
            "5 largest elements:\n",
            "[ 16  52  54  62 453]\n"
          ]
        }
      ]
    },
    {
      "cell_type": "code",
      "source": [
        "array = np.array([1.0, 1.2, 2.2, 2.0, 3.0, 2.0])\n",
        "\n",
        "integer_elements = array[array.astype(int) == array]\n",
        "print(f'Integer elements only:\\n{integer_elements}')\n",
        "\n",
        "unique_elements = np.unique(array)\n",
        "print(f'Unique elements:\\n{unique_elements}')\n",
        "\n",
        "float_elements = array[array.astype(int) != array]\n",
        "print(f'Float elements only:\\n{float_elements}')\n"
      ],
      "metadata": {
        "colab": {
          "base_uri": "https://localhost:8080/"
        },
        "id": "MpYcVMBamVgW",
        "outputId": "85a659fe-97a4-4764-cdec-04f8936ce309"
      },
      "execution_count": 89,
      "outputs": [
        {
          "output_type": "stream",
          "name": "stdout",
          "text": [
            "Integer elements only:\n",
            "[1. 2. 3. 2.]\n",
            "Unique elements:\n",
            "[1.  1.2 2.  2.2 3. ]\n",
            "Float elements only:\n",
            "[1.2 2.2]\n"
          ]
        }
      ]
    },
    {
      "cell_type": "code",
      "source": [],
      "metadata": {
        "id": "QKXQAo1Tm57n"
      },
      "execution_count": null,
      "outputs": []
    }
  ]
}